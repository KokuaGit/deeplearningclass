{
  "nbformat": 4,
  "nbformat_minor": 0,
  "metadata": {
    "colab": {
      "name": "rnn.ipynb",
      "version": "0.3.2",
      "provenance": [],
      "collapsed_sections": [],
      "include_colab_link": true
    },
    "kernelspec": {
      "name": "python3",
      "display_name": "Python 3"
    }
  },
  "cells": [
    {
      "cell_type": "markdown",
      "metadata": {
        "id": "view-in-github",
        "colab_type": "text"
      },
      "source": [
        "[View in Colaboratory](https://colab.research.google.com/github/chokkan/deeplearningclass/blob/master/rnn.ipynb)"
      ]
    },
    {
      "metadata": {
        "id": "TyBCNAqvSZwP",
        "colab_type": "text"
      },
      "cell_type": "markdown",
      "source": [
        "# Deep Neural Networks for structual input\n",
        "\n"
      ]
    },
    {
      "metadata": {
        "id": "6E6o7ZDziS_j",
        "colab_type": "text"
      },
      "cell_type": "markdown",
      "source": [
        "## Download the dataset"
      ]
    },
    {
      "metadata": {
        "id": "bg5UQ01liJho",
        "colab_type": "code",
        "colab": {
          "base_uri": "https://localhost:8080/",
          "height": 210
        },
        "outputId": "ae82fb48-0dfd-4791-f2a7-c4839efb1632"
      },
      "cell_type": "code",
      "source": [
        "!wget https://download.pytorch.org/tutorial/data.zip"
      ],
      "execution_count": 1,
      "outputs": [
        {
          "output_type": "stream",
          "text": [
            "--2018-07-23 11:28:53--  https://download.pytorch.org/tutorial/data.zip\n",
            "Resolving download.pytorch.org (download.pytorch.org)... 54.192.146.204, 54.192.146.168, 54.192.146.137, ...\n",
            "Connecting to download.pytorch.org (download.pytorch.org)|54.192.146.204|:443... connected.\n",
            "HTTP request sent, awaiting response... 200 OK\n",
            "Length: 2882130 (2.7M) [application/zip]\n",
            "Saving to: ‘data.zip’\n",
            "\n",
            "data.zip            100%[===================>]   2.75M  --.-KB/s    in 0.1s    \n",
            "\n",
            "2018-07-23 11:28:53 (20.3 MB/s) - ‘data.zip’ saved [2882130/2882130]\n",
            "\n"
          ],
          "name": "stdout"
        }
      ]
    },
    {
      "metadata": {
        "id": "oF0dnFI8iPPR",
        "colab_type": "code",
        "colab": {
          "base_uri": "https://localhost:8080/",
          "height": 403
        },
        "outputId": "0a8cf8ab-cfe6-4fdf-ff5e-6953b69a6465"
      },
      "cell_type": "code",
      "source": [
        "!unzip data.zip"
      ],
      "execution_count": 2,
      "outputs": [
        {
          "output_type": "stream",
          "text": [
            "Archive:  data.zip\r\n",
            "   creating: data/\n",
            "  inflating: data/eng-fra.txt        \n",
            "   creating: data/names/\n",
            "  inflating: data/names/Arabic.txt   \n",
            "  inflating: data/names/Chinese.txt  \n",
            "  inflating: data/names/Czech.txt    \n",
            "  inflating: data/names/Dutch.txt    \n",
            "  inflating: data/names/English.txt  \n",
            "  inflating: data/names/French.txt   \n",
            "  inflating: data/names/German.txt   \n",
            "  inflating: data/names/Greek.txt    \n",
            "  inflating: data/names/Irish.txt    \n",
            "  inflating: data/names/Italian.txt  \n",
            "  inflating: data/names/Japanese.txt  \n",
            "  inflating: data/names/Korean.txt   \n",
            "  inflating: data/names/Polish.txt   \n",
            "  inflating: data/names/Portuguese.txt  \n",
            "  inflating: data/names/Russian.txt  \n",
            "  inflating: data/names/Scottish.txt  \n",
            "  inflating: data/names/Spanish.txt  \n",
            "  inflating: data/names/Vietnamese.txt  \n"
          ],
          "name": "stdout"
        }
      ]
    },
    {
      "metadata": {
        "id": "54p-dWwRiWmK",
        "colab_type": "text"
      },
      "cell_type": "markdown",
      "source": [
        "## Normalize name spellings in the dataset"
      ]
    },
    {
      "metadata": {
        "id": "J6sFMmTmiT3T",
        "colab_type": "code",
        "colab": {}
      },
      "cell_type": "code",
      "source": [
        "import string\n",
        "import unicodedata\n",
        "\n",
        "# Alphabet [a-zA-Z .,;']\n",
        "alphabet = set(string.ascii_letters + \" .,;'\")\n",
        "\n",
        "def normalize(s):\n",
        "    # Apply canonical decomposition, and ignore non-alphabet symbols.\n",
        "    return ''.join(\n",
        "        c for c in unicodedata.normalize('NFD', s) if c in alphabet\n",
        "        )"
      ],
      "execution_count": 0,
      "outputs": []
    },
    {
      "metadata": {
        "id": "k_r6o4qMjzqu",
        "colab_type": "code",
        "colab": {
          "base_uri": "https://localhost:8080/",
          "height": 34
        },
        "outputId": "773be468-7128-430a-f3a2-f52459aed145"
      },
      "cell_type": "code",
      "source": [
        "normalize('Ślusàrski')"
      ],
      "execution_count": 4,
      "outputs": [
        {
          "output_type": "execute_result",
          "data": {
            "text/plain": [
              "'Slusarski'"
            ]
          },
          "metadata": {
            "tags": []
          },
          "execution_count": 4
        }
      ]
    },
    {
      "metadata": {
        "id": "KermR0rckh9z",
        "colab_type": "code",
        "colab": {}
      },
      "cell_type": "code",
      "source": [
        "import glob\n",
        "import json\n",
        "import os\n",
        "\n",
        "data = []\n",
        "srcs = glob.glob('data/names/*.txt')\n",
        "for src in srcs:\n",
        "    lang = os.path.basename(src)[:-4]\n",
        "    for line in open(src):\n",
        "        line = line.strip('\\n')\n",
        "        data.append((normalize(line), lang))\n",
        "    \n",
        "with open('names.json', 'w') as fo:\n",
        "    json.dump(data, fo)"
      ],
      "execution_count": 0,
      "outputs": []
    },
    {
      "metadata": {
        "id": "8EkNRs9fS4Mx",
        "colab_type": "text"
      },
      "cell_type": "markdown",
      "source": [
        "## Convert the string data into numerical data"
      ]
    },
    {
      "metadata": {
        "id": "MKWUzGxur0r6",
        "colab_type": "code",
        "colab": {}
      },
      "cell_type": "code",
      "source": [
        "def find_vocabulary(data):\n",
        "    X, Y = set(), set()    \n",
        "    for (x, y) in data:\n",
        "        X.update(c for c in x)\n",
        "        Y.add(y)\n",
        "    return sorted(X), sorted(Y)\n",
        "\n",
        "def build_mapping(items):\n",
        "    M = {}\n",
        "    for item in items:\n",
        "        M.setdefault(item, len(M))\n",
        "    return M\n",
        "\n",
        "def convert_to_numeric_data(data, Xmap, Ymap):\n",
        "    D = []\n",
        "    for (x, y) in data:\n",
        "        D.append(([Xmap[c] for c in x], Ymap[y]))\n",
        "    return D    \n",
        "\n",
        "import json\n",
        "data = json.load(open('names.json'))\n",
        "\n",
        "X, Y = find_vocabulary(data)\n",
        "Xmap = build_mapping(X)\n",
        "Ymap = build_mapping(Y)\n",
        "\n",
        "with open('names.data.json', 'w') as fo:\n",
        "    json.dump(dict(\n",
        "        data = convert_to_numeric_data(data, Xmap, Ymap),\n",
        "        X = X,\n",
        "        Y = Y,\n",
        "        ), fo)"
      ],
      "execution_count": 0,
      "outputs": []
    },
    {
      "metadata": {
        "id": "gxw3GLjPij3r",
        "colab_type": "text"
      },
      "cell_type": "markdown",
      "source": [
        "## Install necessary modules"
      ]
    },
    {
      "metadata": {
        "id": "kBWM_sOberqG",
        "colab_type": "code",
        "colab": {
          "base_uri": "https://localhost:8080/",
          "height": 880
        },
        "outputId": "65b354a5-fe47-4053-bf20-efeb18646a56"
      },
      "cell_type": "code",
      "source": [
        "!pip install livelossplot"
      ],
      "execution_count": 7,
      "outputs": [
        {
          "output_type": "stream",
          "text": [
            "Collecting livelossplot\n",
            "  Downloading https://files.pythonhosted.org/packages/0c/01/3e34559dbdb98580d5e8f62bc3853975c2a2079834bfba2c1bdffe680804/livelossplot-0.2.0.tar.gz\n",
            "Requirement already satisfied: matplotlib in /usr/local/lib/python3.6/dist-packages (from livelossplot) (2.1.2)\n",
            "Requirement already satisfied: notebook in /usr/local/lib/python3.6/dist-packages (from livelossplot) (5.2.2)\n",
            "Requirement already satisfied: cycler>=0.10 in /usr/local/lib/python3.6/dist-packages (from matplotlib->livelossplot) (0.10.0)\n",
            "Requirement already satisfied: six>=1.10 in /usr/local/lib/python3.6/dist-packages (from matplotlib->livelossplot) (1.11.0)\n",
            "Requirement already satisfied: python-dateutil>=2.1 in /usr/local/lib/python3.6/dist-packages (from matplotlib->livelossplot) (2.5.3)\n",
            "Requirement already satisfied: pyparsing!=2.0.4,!=2.1.2,!=2.1.6,>=2.0.1 in /usr/local/lib/python3.6/dist-packages (from matplotlib->livelossplot) (2.2.0)\n",
            "Requirement already satisfied: numpy>=1.7.1 in /usr/local/lib/python3.6/dist-packages (from matplotlib->livelossplot) (1.14.5)\n",
            "Requirement already satisfied: pytz in /usr/local/lib/python3.6/dist-packages (from matplotlib->livelossplot) (2018.5)\n",
            "Requirement already satisfied: jupyter-client in /usr/local/lib/python3.6/dist-packages (from notebook->livelossplot) (5.2.3)\n",
            "Requirement already satisfied: jinja2 in /usr/local/lib/python3.6/dist-packages (from notebook->livelossplot) (2.10)\n",
            "Requirement already satisfied: jupyter-core in /usr/local/lib/python3.6/dist-packages (from notebook->livelossplot) (4.4.0)\n",
            "Requirement already satisfied: traitlets>=4.2.1 in /usr/local/lib/python3.6/dist-packages (from notebook->livelossplot) (4.3.2)\n",
            "Requirement already satisfied: terminado>=0.3.3; sys_platform != \"win32\" in /usr/local/lib/python3.6/dist-packages (from notebook->livelossplot) (0.8.1)\n",
            "Requirement already satisfied: tornado>=4 in /usr/local/lib/python3.6/dist-packages (from notebook->livelossplot) (4.5.3)\n",
            "Requirement already satisfied: ipykernel in /usr/local/lib/python3.6/dist-packages (from notebook->livelossplot) (4.6.1)\n",
            "Requirement already satisfied: ipython-genutils in /usr/local/lib/python3.6/dist-packages (from notebook->livelossplot) (0.2.0)\n",
            "Requirement already satisfied: nbconvert in /usr/local/lib/python3.6/dist-packages (from notebook->livelossplot) (5.3.1)\n",
            "Requirement already satisfied: nbformat in /usr/local/lib/python3.6/dist-packages (from notebook->livelossplot) (4.4.0)\n",
            "Requirement already satisfied: pyzmq>=13 in /usr/local/lib/python3.6/dist-packages (from jupyter-client->notebook->livelossplot) (16.0.4)\n",
            "Requirement already satisfied: MarkupSafe>=0.23 in /usr/local/lib/python3.6/dist-packages (from jinja2->notebook->livelossplot) (1.0)\n",
            "Requirement already satisfied: decorator in /usr/local/lib/python3.6/dist-packages (from traitlets>=4.2.1->notebook->livelossplot) (4.3.0)\n",
            "Requirement already satisfied: ptyprocess; os_name != \"nt\" in /usr/local/lib/python3.6/dist-packages (from terminado>=0.3.3; sys_platform != \"win32\"->notebook->livelossplot) (0.6.0)\n",
            "Requirement already satisfied: ipython>=4.0.0 in /usr/local/lib/python3.6/dist-packages (from ipykernel->notebook->livelossplot) (5.5.0)\n",
            "Requirement already satisfied: bleach in /usr/local/lib/python3.6/dist-packages (from nbconvert->notebook->livelossplot) (2.1.3)\n",
            "Requirement already satisfied: pandocfilters>=1.4.1 in /usr/local/lib/python3.6/dist-packages (from nbconvert->notebook->livelossplot) (1.4.2)\n",
            "Requirement already satisfied: mistune>=0.7.4 in /usr/local/lib/python3.6/dist-packages (from nbconvert->notebook->livelossplot) (0.8.3)\n",
            "Requirement already satisfied: entrypoints>=0.2.2 in /usr/local/lib/python3.6/dist-packages (from nbconvert->notebook->livelossplot) (0.2.3)\n",
            "Requirement already satisfied: testpath in /usr/local/lib/python3.6/dist-packages (from nbconvert->notebook->livelossplot) (0.3.1)\n",
            "Requirement already satisfied: pygments in /usr/local/lib/python3.6/dist-packages (from nbconvert->notebook->livelossplot) (2.1.3)\n",
            "Requirement already satisfied: jsonschema!=2.5.0,>=2.4 in /usr/local/lib/python3.6/dist-packages (from nbformat->notebook->livelossplot) (2.6.0)\n",
            "Requirement already satisfied: prompt-toolkit<2.0.0,>=1.0.4 in /usr/local/lib/python3.6/dist-packages (from ipython>=4.0.0->ipykernel->notebook->livelossplot) (1.0.15)\n",
            "Requirement already satisfied: simplegeneric>0.8 in /usr/local/lib/python3.6/dist-packages (from ipython>=4.0.0->ipykernel->notebook->livelossplot) (0.8.1)\n",
            "Requirement already satisfied: pexpect; sys_platform != \"win32\" in /usr/local/lib/python3.6/dist-packages (from ipython>=4.0.0->ipykernel->notebook->livelossplot) (4.6.0)\n",
            "Requirement already satisfied: setuptools>=18.5 in /usr/local/lib/python3.6/dist-packages (from ipython>=4.0.0->ipykernel->notebook->livelossplot) (39.1.0)\n",
            "Requirement already satisfied: pickleshare in /usr/local/lib/python3.6/dist-packages (from ipython>=4.0.0->ipykernel->notebook->livelossplot) (0.7.4)\n",
            "Requirement already satisfied: html5lib!=1.0b1,!=1.0b2,!=1.0b3,!=1.0b4,!=1.0b5,!=1.0b6,!=1.0b7,!=1.0b8,>=0.99999999pre in /usr/local/lib/python3.6/dist-packages (from bleach->nbconvert->notebook->livelossplot) (1.0.1)\n",
            "Requirement already satisfied: wcwidth in /usr/local/lib/python3.6/dist-packages (from prompt-toolkit<2.0.0,>=1.0.4->ipython>=4.0.0->ipykernel->notebook->livelossplot) (0.1.7)\n",
            "Requirement already satisfied: webencodings in /usr/local/lib/python3.6/dist-packages (from html5lib!=1.0b1,!=1.0b2,!=1.0b3,!=1.0b4,!=1.0b5,!=1.0b6,!=1.0b7,!=1.0b8,>=0.99999999pre->bleach->nbconvert->notebook->livelossplot) (0.5.1)\n",
            "Building wheels for collected packages: livelossplot\n",
            "  Running setup.py bdist_wheel for livelossplot ... \u001b[?25l-\b \bdone\n",
            "\u001b[?25h  Stored in directory: /content/.cache/pip/wheels/67/8b/e9/3990164e3b2a421145b9d9d76fc8aa889225d495b043faeb73\n",
            "Successfully built livelossplot\n",
            "Installing collected packages: livelossplot\n",
            "Successfully installed livelossplot-0.2.0\n",
            "\u001b[33mYou are using pip version 10.0.1, however version 18.0 is available.\n",
            "You should consider upgrading via the 'pip install --upgrade pip' command.\u001b[0m\n"
          ],
          "name": "stdout"
        }
      ]
    },
    {
      "metadata": {
        "id": "Pe4UTXMEtwEY",
        "colab_type": "code",
        "colab": {
          "base_uri": "https://localhost:8080/",
          "height": 371
        },
        "outputId": "b847e877-d522-4aab-a63d-b84df3f57c18"
      },
      "cell_type": "code",
      "source": [
        "!pip install torch torchvision"
      ],
      "execution_count": 8,
      "outputs": [
        {
          "output_type": "stream",
          "text": [
            "Collecting torch\n",
            "\u001b[?25l  Downloading https://files.pythonhosted.org/packages/69/43/380514bd9663f1bf708abeb359b8b48d3fabb1c8e95bb3427a980a064c57/torch-0.4.0-cp36-cp36m-manylinux1_x86_64.whl (484.0MB)\n",
            "\u001b[K    100% |████████████████████████████████| 484.0MB 27kB/s \n",
            "tcmalloc: large alloc 1073750016 bytes == 0x5cdc8000 @  0x7f5636ceb1c4 0x46d6a4 0x5fcbcc 0x4c494d 0x54f3c4 0x553aaf 0x54e4c8 0x54f4f6 0x553aaf 0x54efc1 0x54f24d 0x553aaf 0x54efc1 0x54f24d 0x553aaf 0x54efc1 0x54f24d 0x551ee0 0x54e4c8 0x54f4f6 0x553aaf 0x54efc1 0x54f24d 0x551ee0 0x54efc1 0x54f24d 0x551ee0 0x54e4c8 0x54f4f6 0x553aaf 0x54e4c8\n",
            "\u001b[?25hCollecting torchvision\n",
            "\u001b[?25l  Downloading https://files.pythonhosted.org/packages/ca/0d/f00b2885711e08bd71242ebe7b96561e6f6d01fdb4b9dcf4d37e2e13c5e1/torchvision-0.2.1-py2.py3-none-any.whl (54kB)\n",
            "\u001b[K    100% |████████████████████████████████| 61kB 8.6MB/s \n",
            "\u001b[?25hRequirement already satisfied: six in /usr/local/lib/python3.6/dist-packages (from torchvision) (1.11.0)\n",
            "Collecting pillow>=4.1.1 (from torchvision)\n",
            "\u001b[?25l  Downloading https://files.pythonhosted.org/packages/d1/24/f53ff6b61b3d728b90934bddb4f03f8ab584a7f49299bf3bde56e2952612/Pillow-5.2.0-cp36-cp36m-manylinux1_x86_64.whl (2.0MB)\n",
            "\u001b[K    100% |████████████████████████████████| 2.0MB 2.8MB/s \n",
            "\u001b[?25hRequirement already satisfied: numpy in /usr/local/lib/python3.6/dist-packages (from torchvision) (1.14.5)\n",
            "Installing collected packages: torch, pillow, torchvision\n",
            "  Found existing installation: Pillow 4.0.0\n",
            "    Uninstalling Pillow-4.0.0:\n",
            "      Successfully uninstalled Pillow-4.0.0\n",
            "Successfully installed pillow-5.2.0 torch-0.4.0 torchvision-0.2.1\n",
            "\u001b[33mYou are using pip version 10.0.1, however version 18.0 is available.\n",
            "You should consider upgrading via the 'pip install --upgrade pip' command.\u001b[0m\n"
          ],
          "name": "stdout"
        }
      ]
    },
    {
      "metadata": {
        "id": "6fFunGh9iqLr",
        "colab_type": "text"
      },
      "cell_type": "markdown",
      "source": [
        "## Implementing RNN cells (states)"
      ]
    },
    {
      "metadata": {
        "id": "qbK8gUYgTSdu",
        "colab_type": "code",
        "colab": {
          "base_uri": "https://localhost:8080/",
          "height": 339
        },
        "outputId": "85992ff4-d113-4b98-e1dd-577c426f7e3f"
      },
      "cell_type": "code",
      "source": [
        "import json\n",
        "import random\n",
        "import torch\n",
        "import torch.nn as nn\n",
        "import torch.optim as optim\n",
        "from livelossplot import PlotLosses\n",
        "\n",
        "class RNNCell(nn.Module):\n",
        "    def __init__(self, input_size, hidden_size, output_size):\n",
        "        super(RNNCell, self).__init__()\n",
        "        \n",
        "        self.hidden_size = hidden_size\n",
        "        self.f = nn.Tanh()\n",
        "        self.hi = nn.Linear(input_size + hidden_size, hidden_size)\n",
        "        self.oh = nn.Linear(hidden_size, output_size)\n",
        "    \n",
        "    def forward(self, input, hidden):\n",
        "        new_hidden = self.f(self.hi(torch.cat((input, hidden), 0)))\n",
        "        new_output = self.oh(new_hidden)\n",
        "        return new_output, new_hidden\n",
        "    \n",
        "    def initHidden(self):\n",
        "        return torch.zeros(self.hidden_size)\n",
        "    \n",
        "def x_to_tensor(x, input_size):\n",
        "    tensor = torch.zeros(len(x), input_size, dtype=torch.float)\n",
        "    for i, j in enumerate(x):\n",
        "        tensor[i][j] = 1\n",
        "    return tensor\n",
        "\n",
        "def y_to_tensor(y):\n",
        "    tensor = torch.zeros(1, dtype=torch.long)\n",
        "    tensor[0] = y\n",
        "    return tensor\n",
        "\n",
        "data = json.load(open('names.data.json'))\n",
        "dataset = data['data']\n",
        "input_size = len(data['X'])\n",
        "output_size = len(data['Y'])\n",
        "\n",
        "model = RNNCell(input_size, 128, output_size)\n",
        "\n",
        "loss_fn = nn.CrossEntropyLoss(size_average=False)\n",
        "optimizer = optim.SGD(model.parameters(), lr=0.001)\n",
        "\n",
        "liveloss = PlotLosses()\n",
        "for t in range(10):\n",
        "    train_loss = 0.\n",
        "    num_train_correct = 0\n",
        "    random.shuffle(dataset)\n",
        "    \n",
        "    # Training loop for every instance.\n",
        "    for (x, y) in dataset:\n",
        "        # Convert a training instance into tensors in place.\n",
        "        x = x_to_tensor(x, input_size)\n",
        "        y = y_to_tensor(y)\n",
        "        \n",
        "        # Recurrent Neural Network\n",
        "        hidden = model.initHidden()\n",
        "        for xt in x:\n",
        "            output, hidden = model(xt, hidden)\n",
        "                \n",
        "        # Make predictions with the current parameters.\n",
        "        y_pred = output.view(1, -1)  # Reshape the output: (18) -> (1, 18)\n",
        "        _, predicted = torch.max(y_pred.data, 1)\n",
        "        num_train_correct += (predicted == y).sum().item()\n",
        "        \n",
        "        # Compute the loss value.\n",
        "        loss = loss_fn(y_pred, y)\n",
        "        train_loss += loss.item()\n",
        "        \n",
        "        # Update the parameters.\n",
        "        optimizer.zero_grad()\n",
        "        loss.backward()\n",
        "        optimizer.step()\n",
        "                \n",
        "    # Visualize accuracy values on the training set.\n",
        "    num_train_correct /= float(len(dataset))\n",
        "    liveloss.update({\n",
        "        'log loss': train_loss,\n",
        "        'accuracy': num_train_correct,\n",
        "    })\n",
        "    liveloss.draw()\n",
        "    \n",
        "print('Accuracy: {:.4f} (train)'.format(num_train_correct))"
      ],
      "execution_count": 9,
      "outputs": [
        {
          "output_type": "display_data",
          "data": {
            "image/png": "[encoded data removed]",
            "text/plain": [
              "<matplotlib.figure.Figure at 0x7fbbef12cf28>"
            ]
          },
          "metadata": {
            "tags": []
          }
        },
        {
          "output_type": "stream",
          "text": [
            "Accuracy: 0.7490 (train)\n"
          ],
          "name": "stdout"
        }
      ]
    },
    {
      "metadata": {
        "id": "WLXaWa32i3ey",
        "colab_type": "text"
      },
      "cell_type": "markdown",
      "source": [
        "## Using `nn.RNN` module"
      ]
    },
    {
      "metadata": {
        "id": "uGphMMS-3fCj",
        "colab_type": "code",
        "colab": {
          "base_uri": "https://localhost:8080/",
          "height": 339
        },
        "outputId": "aca17884-d268-457f-b988-44aa9f12dc36"
      },
      "cell_type": "code",
      "source": [
        "import json\n",
        "import random\n",
        "import torch\n",
        "import torch.nn as nn\n",
        "import torch.optim as optim\n",
        "from livelossplot import PlotLosses\n",
        "\n",
        "class SequenceRNN(nn.Module):\n",
        "    def __init__(self, input_size, hidden_size, output_size):\n",
        "        super(SequenceRNN, self).__init__()\n",
        "        \n",
        "        self.hidden_size = hidden_size\n",
        "        self.rnn = nn.RNN(input_size, hidden_size, num_layers=1)\n",
        "        self.fc = nn.Linear(hidden_size, output_size)\n",
        "    \n",
        "    def forward(self, input, hidden):\n",
        "        output, hidden = self.rnn(input, hidden)\n",
        "        output = self.fc(output[-1])\n",
        "        return output\n",
        "    \n",
        "    def initHidden(self):\n",
        "        return torch.zeros(1, 1, self.hidden_size)\n",
        "    \n",
        "def x_to_tensor(x, input_size):\n",
        "    tensor = torch.zeros(len(x), 1, input_size, dtype=torch.float)\n",
        "    for i, j in enumerate(x):\n",
        "        tensor[i][0][j] = 1   # (T, batch, input_dim)\n",
        "    return tensor\n",
        "\n",
        "def y_to_tensor(y):\n",
        "    tensor = torch.zeros(1, dtype=torch.long)\n",
        "    tensor[0] = y\n",
        "    return tensor\n",
        "\n",
        "data = json.load(open('names.data.json'))\n",
        "dataset = data['data']\n",
        "input_size = len(data['X'])\n",
        "output_size = len(data['Y'])\n",
        "\n",
        "model = SequenceRNN(input_size, 128, output_size)\n",
        "\n",
        "loss_fn = nn.CrossEntropyLoss(size_average=False)\n",
        "optimizer = optim.SGD(model.parameters(), lr=0.001)\n",
        "\n",
        "liveloss = PlotLosses()\n",
        "for t in range(10):\n",
        "    train_loss = 0.\n",
        "    num_train_correct = 0\n",
        "    random.shuffle(dataset)\n",
        "    \n",
        "    # Training loop for every instance.\n",
        "    for (x, y) in dataset:\n",
        "        # Convert a training instance into tensors in place.\n",
        "        x = x_to_tensor(x, input_size)\n",
        "        y = y_to_tensor(y)\n",
        "        \n",
        "        # Make predictions with the current parameters.\n",
        "        y_pred = model(x, model.initHidden())\n",
        "        _, predicted = torch.max(y_pred.data, 1)\n",
        "        num_train_correct += (predicted == y).sum().item()\n",
        "        \n",
        "        # Compute the loss value.\n",
        "        loss = loss_fn(y_pred, y)\n",
        "        train_loss += loss.item()\n",
        "        \n",
        "        # Update the parameters.\n",
        "        optimizer.zero_grad()\n",
        "        loss.backward()\n",
        "        optimizer.step()\n",
        "        \n",
        "    # Visualize accuracy values on the training set.\n",
        "    num_train_correct /= float(len(dataset))\n",
        "    liveloss.update({\n",
        "        'log loss': train_loss,\n",
        "        'accuracy': num_train_correct,\n",
        "    })\n",
        "    liveloss.draw()\n",
        "    \n",
        "print('Accuracy: {:.4f} (train)'.format(num_train_correct))"
      ],
      "execution_count": 10,
      "outputs": [
        {
          "output_type": "display_data",
          "data": {
            "image/png": "[encoded data removed]",
            "text/plain": [
              "<matplotlib.figure.Figure at 0x7fbbf1e90d30>"
            ]
          },
          "metadata": {
            "tags": []
          }
        },
        {
          "output_type": "stream",
          "text": [
            "Accuracy: 0.7530 (train)\n"
          ],
          "name": "stdout"
        }
      ]
    },
    {
      "metadata": {
        "id": "vOqEUuTqjGtM",
        "colab_type": "text"
      },
      "cell_type": "markdown",
      "source": [
        "### Predict a nationality of a name by using the trained model"
      ]
    },
    {
      "metadata": {
        "id": "Xi_phdhW43nc",
        "colab_type": "code",
        "colab": {}
      },
      "cell_type": "code",
      "source": [
        "def predict(name):\n",
        "    x = []\n",
        "    for c in name:\n",
        "        x.append(data['X'].index(c))\n",
        "    x = x_to_tensor(x, len(data['X']))\n",
        "    hidden = model.initHidden()\n",
        "    y_pred = nn.Softmax(dim=-1)(model(x, hidden))\n",
        "   \n",
        "    scores = []\n",
        "    for index, lang in enumerate(data['Y']):\n",
        "        scores.append((lang, float(y_pred[0][index])))\n",
        "        \n",
        "    return sorted(scores, key=lambda x: x[1], reverse=True)"
      ],
      "execution_count": 0,
      "outputs": []
    },
    {
      "metadata": {
        "id": "D9HJOcC4-Jwz",
        "colab_type": "code",
        "colab": {
          "base_uri": "https://localhost:8080/",
          "height": 333
        },
        "outputId": "fe944299-2f36-4eab-8db1-dad2249195fb"
      },
      "cell_type": "code",
      "source": [
        "predict('Okazaki')"
      ],
      "execution_count": 12,
      "outputs": [
        {
          "output_type": "execute_result",
          "data": {
            "text/plain": [
              "[('Japanese', 0.9503041505813599),\n",
              " ('Arabic', 0.02011299319565296),\n",
              " ('Russian', 0.014997806400060654),\n",
              " ('Polish', 0.0070456527173519135),\n",
              " ('Czech', 0.001769020687788725),\n",
              " ('Italian', 0.0016505117528140545),\n",
              " ('Greek', 0.0009389300248585641),\n",
              " ('Irish', 0.0008180949371308088),\n",
              " ('Spanish', 0.0006490220548585057),\n",
              " ('French', 0.00045640330063179135),\n",
              " ('Dutch', 0.0003299353993497789),\n",
              " ('Portuguese', 0.0002583166933618486),\n",
              " ('German', 0.00020058624795638025),\n",
              " ('Vietnamese', 0.0001657887623878196),\n",
              " ('Chinese', 0.00011245829227846116),\n",
              " ('Korean', 6.999421748332679e-05),\n",
              " ('English', 6.334907084237784e-05),\n",
              " ('Scottish', 5.698695531464182e-05)]"
            ]
          },
          "metadata": {
            "tags": []
          },
          "execution_count": 12
        }
      ]
    },
    {
      "metadata": {
        "id": "aqA6VAZ9EwUQ",
        "colab_type": "code",
        "colab": {
          "base_uri": "https://localhost:8080/",
          "height": 339
        },
        "outputId": "da582590-966f-4c5d-cd23-8d70cbb60ecc"
      },
      "cell_type": "code",
      "source": [
        "import json\n",
        "import random\n",
        "import torch\n",
        "import torch.nn as nn\n",
        "import torch.optim as optim\n",
        "from torch.utils.data import TensorDataset, DataLoader\n",
        "from livelossplot import PlotLosses\n",
        "\n",
        "class MinibatchSequenceRNN(nn.Module):\n",
        "    def __init__(self, input_size, hidden_size, output_size):\n",
        "        super(MinibatchSequenceRNN, self).__init__()\n",
        "        \n",
        "        self.hidden_size = hidden_size\n",
        "        self.rnn = nn.RNN(input_size, hidden_size, batch_first=True)\n",
        "        self.fc = nn.Linear(hidden_size, output_size)\n",
        "\n",
        "    def last_timestep(self, unpacked, lengths):\n",
        "        idx = (lengths-1).view(-1, 1).expand(\n",
        "            unpacked.size(0), unpacked.size(2)).unsqueeze(1)\n",
        "        return unpacked.gather(1, idx).squeeze()\n",
        "    \n",
        "    def forward(self, input, hidden, l):\n",
        "        input = nn.utils.rnn.pack_padded_sequence(input, l, batch_first=True)\n",
        "        output, hidden = self.rnn(input, hidden)\n",
        "        output, _ = nn.utils.rnn.pad_packed_sequence(output, batch_first=True)\n",
        "        output = self.last_timestep(output, l)\n",
        "        output = self.fc(output)\n",
        "        return output\n",
        "    \n",
        "    def initHidden(self, batch_size=1):\n",
        "        return torch.zeros(1, batch_size, self.hidden_size)\n",
        "    \n",
        "def create_dataset(data, X, Y):\n",
        "    # Sort the data by sequence length (long to short)\n",
        "    data.sort(key=lambda instance: len(instance[0]), reverse=True)\n",
        "    \n",
        "    input_size = len(X)\n",
        "    output_size = len(Y)\n",
        "    max_length = len(data[0][0])\n",
        "    num_instances = len(data)\n",
        "    \n",
        "    xt = torch.zeros(num_instances, max_length, input_size, dtype=torch.float)\n",
        "    yt = torch.zeros(num_instances, dtype=torch.long)\n",
        "    lt = torch.zeros(num_instances, dtype=torch.long)\n",
        "                    \n",
        "    for i, (x, y) in enumerate(data):\n",
        "        for t, v in enumerate(x):\n",
        "            xt[i][t][v] = 1\n",
        "        yt[i] = y\n",
        "        lt[i] = len(x)\n",
        "    return TensorDataset(xt, yt, lt)\n",
        "\n",
        "batch_size = 32\n",
        "data = json.load(open('names.data.json'))\n",
        "train_set = create_dataset(data['data'], data['X'], data['Y'])\n",
        "train_loader = DataLoader(train_set, batch_size=batch_size)\n",
        "input_size = len(data['X'])\n",
        "output_size = len(data['Y'])\n",
        "\n",
        "model = MinibatchSequenceRNN(input_size, 128, output_size)\n",
        "\n",
        "loss_fn = nn.CrossEntropyLoss(size_average=False)\n",
        "optimizer = optim.SGD(model.parameters(), lr=1e-3)\n",
        "\n",
        "liveloss = PlotLosses()\n",
        "for t in range(100):\n",
        "    train_loss = 0.\n",
        "    num_train_correct = 0\n",
        "    \n",
        "    # Training loop for mini-batches\n",
        "    for batch_idx, (x, y, l) in enumerate(train_loader):\n",
        "        this_batch_size = len(l)\n",
        "        \n",
        "        # Make predictions with the current parameters.\n",
        "        hidden = model.initHidden(this_batch_size)\n",
        "        y_pred = model(x, hidden, l)[:this_batch_size]\n",
        "        _, predicted = torch.max(y_pred.data, 1)\n",
        "        num_train_correct += (predicted == y).sum().item()\n",
        "        \n",
        "        # Compute the loss value.\n",
        "        loss = loss_fn(y_pred, y)\n",
        "        train_loss += loss.item()\n",
        "        \n",
        "        # Update the parameters.\n",
        "        optimizer.zero_grad()\n",
        "        loss.backward()\n",
        "        optimizer.step()\n",
        "        \n",
        "    # Visualize accuracy values on the training set.\n",
        "    num_train_correct /= float(len(dataset))\n",
        "    liveloss.update({\n",
        "        'log loss': train_loss,\n",
        "        'accuracy': num_train_correct,\n",
        "    })\n",
        "    liveloss.draw()\n",
        "    \n",
        "print('Accuracy: {:.4f} (train)'.format(num_train_correct))"
      ],
      "execution_count": 13,
      "outputs": [
        {
          "output_type": "display_data",
          "data": {
            "image/png": "[encoded data removed]",
            "text/plain": [
              "<matplotlib.figure.Figure at 0x7fbbeec59240>"
            ]
          },
          "metadata": {
            "tags": []
          }
        },
        {
          "output_type": "stream",
          "text": [
            "Accuracy: 0.8027 (train)\n"
          ],
          "name": "stdout"
        }
      ]
    },
    {
      "metadata": {
        "id": "u2LLDuwhI_ZP",
        "colab_type": "code",
        "colab": {}
      },
      "cell_type": "code",
      "source": [
        ""
      ],
      "execution_count": 0,
      "outputs": []
    }
  ]
}